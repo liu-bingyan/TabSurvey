{
 "cells": [
  {
   "cell_type": "code",
   "execution_count": 26,
   "metadata": {},
   "outputs": [
    {
     "name": "stdout",
     "output_type": "stream",
     "text": [
      "Epoch [10/400], Loss: 6.4379\n",
      "Epoch [20/400], Loss: 4.2686\n",
      "Epoch [30/400], Loss: 2.8303\n",
      "Epoch [40/400], Loss: 1.8766\n",
      "Epoch [50/400], Loss: 1.2443\n",
      "Epoch [60/400], Loss: 0.8250\n",
      "Epoch [70/400], Loss: 0.5470\n",
      "Epoch [80/400], Loss: 0.3627\n",
      "Epoch [90/400], Loss: 0.2405\n",
      "Epoch [100/400], Loss: 0.1595\n",
      "Epoch [110/400], Loss: 0.1057\n",
      "Epoch [120/400], Loss: 0.0701\n",
      "Epoch [130/400], Loss: 0.0465\n",
      "Epoch [140/400], Loss: 0.0308\n",
      "Epoch [150/400], Loss: 0.0204\n",
      "Epoch [160/400], Loss: 0.0136\n",
      "Epoch [170/400], Loss: 0.0090\n",
      "Epoch [180/400], Loss: 0.0060\n",
      "Epoch [190/400], Loss: 0.0040\n",
      "Epoch [200/400], Loss: 0.0026\n",
      "Epoch [210/400], Loss: 0.0017\n",
      "Epoch [220/400], Loss: 0.0012\n",
      "Epoch [230/400], Loss: 0.0008\n",
      "Epoch [240/400], Loss: 0.0005\n",
      "Epoch [250/400], Loss: 0.0003\n",
      "Epoch [260/400], Loss: 0.0002\n",
      "Epoch [270/400], Loss: 0.0001\n",
      "Epoch [280/400], Loss: 0.0001\n",
      "Epoch [290/400], Loss: 0.0001\n",
      "Epoch [300/400], Loss: 0.0000\n",
      "Epoch [310/400], Loss: 0.0000\n",
      "Epoch [320/400], Loss: 0.0000\n",
      "Epoch [330/400], Loss: 0.0000\n",
      "Epoch [340/400], Loss: 0.0000\n",
      "Epoch [350/400], Loss: 0.0000\n",
      "Epoch [360/400], Loss: 0.0000\n",
      "Epoch [370/400], Loss: 0.0000\n",
      "Epoch [380/400], Loss: 0.0000\n",
      "Epoch [390/400], Loss: 0.0000\n",
      "Epoch [400/400], Loss: 0.0000\n",
      "Predictions: [[2.9988563]\n",
      " [4.9982004]\n",
      " [6.9975443]]\n",
      "model.linear.weight: Parameter containing:\n",
      "tensor([[1.9993]], requires_grad=True)\n",
      "model.linear.bias: Parameter containing:\n",
      "tensor([0.9995], requires_grad=True)\n"
     ]
    }
   ],
   "source": [
    "import torch\n",
    "import torch.nn as nn\n",
    "import torch.optim as optim\n",
    "\n",
    "# Define the linear neural network model\n",
    "class LinearModel(nn.Module):\n",
    "    def __init__(self, input_size, output_size):\n",
    "        super(LinearModel, self).__init__()\n",
    "        self.linear = nn.Linear(input_size, output_size,bias=True)\n",
    "    \n",
    "    def forward(self, x):\n",
    "        return self.linear(x)\n",
    "\n",
    "# Create the linear data\n",
    "x_train = torch.randn(10000, 1)\n",
    "w = torch.tensor([[2]],dtype=torch.float32)\n",
    "b = torch.tensor([1])  \n",
    "\n",
    "y_train = x_train @ w + b\n",
    "\n",
    "# Define the model and loss function\n",
    "model = LinearModel(1, 1)\n",
    "criterion = nn.MSELoss()\n",
    "optimizer = optim.SGD(model.parameters(), lr=0.01)\n",
    "\n",
    "# Train the model\n",
    "num_epochs = 400\n",
    "for epoch in range(num_epochs):\n",
    "    # Forward pass\n",
    "    outputs = model(x_train)\n",
    "    loss = criterion(outputs, y_train)\n",
    "    \n",
    "    # Backward and optimize\n",
    "    optimizer.zero_grad()\n",
    "    loss.backward()\n",
    "    optimizer.step()\n",
    "\n",
    "    # Print the loss every 10 epochs\n",
    "    if (epoch+1) % 10 == 0:\n",
    "        print(f'Epoch [{epoch+1}/{num_epochs}], Loss: {loss.item():.4f}')\n",
    "\n",
    "# Test the trained model\n",
    "x_test = torch.tensor([[1.0], [2.0], [3.0]])\n",
    "y_test = model(x_test)\n",
    "print(f'Predictions: {y_test.detach().numpy()}')\n",
    "print(f'model.linear.weight: {model.linear.weight}')\n",
    "print(f'model.linear.bias: {model.linear.bias}')\n"
   ]
  },
  {
   "cell_type": "code",
   "execution_count": 5,
   "metadata": {},
   "outputs": [
    {
     "ename": "RuntimeError",
     "evalue": "Boolean value of Tensor with more than one value is ambiguous",
     "output_type": "error",
     "traceback": [
      "\u001b[1;31m---------------------------------------------------------------------------\u001b[0m",
      "\u001b[1;31mRuntimeError\u001b[0m                              Traceback (most recent call last)",
      "Cell \u001b[1;32mIn[5], line 5\u001b[0m\n\u001b[0;32m      3\u001b[0m w \u001b[38;5;241m=\u001b[39m torch\u001b[38;5;241m.\u001b[39mtensor([[\u001b[38;5;241m2\u001b[39m]],dtype\u001b[38;5;241m=\u001b[39mtorch\u001b[38;5;241m.\u001b[39mfloat32)\n\u001b[0;32m      4\u001b[0m x_test \u001b[38;5;241m=\u001b[39m x \u001b[38;5;241m*\u001b[39m\u001b[38;5;241m*\u001b[39m \u001b[38;5;241m2\u001b[39m\n\u001b[1;32m----> 5\u001b[0m y \u001b[38;5;241m=\u001b[39m \u001b[43mtorch\u001b[49m\u001b[38;5;241;43m.\u001b[39;49m\u001b[43mnn\u001b[49m\u001b[38;5;241;43m.\u001b[39;49m\u001b[43mMSELoss\u001b[49m\u001b[43m(\u001b[49m\u001b[43mw\u001b[49m\u001b[43m \u001b[49m\u001b[38;5;241;43m@\u001b[39;49m\u001b[43m \u001b[49m\u001b[43mx\u001b[49m\u001b[38;5;241;43m.\u001b[39;49m\u001b[43mreshape\u001b[49m\u001b[43m(\u001b[49m\u001b[38;5;241;43m1\u001b[39;49m\u001b[43m,\u001b[49m\u001b[38;5;241;43m-\u001b[39;49m\u001b[38;5;241;43m1\u001b[39;49m\u001b[43m)\u001b[49m\u001b[43m,\u001b[49m\u001b[43m \u001b[49m\u001b[43mx_test\u001b[49m\u001b[43m)\u001b[49m\n",
      "File \u001b[1;32mc:\\Users\\bingy\\AppData\\Local\\Programs\\Python\\Python312\\Lib\\site-packages\\torch\\nn\\modules\\loss.py:532\u001b[0m, in \u001b[0;36mMSELoss.__init__\u001b[1;34m(self, size_average, reduce, reduction)\u001b[0m\n\u001b[0;32m    531\u001b[0m \u001b[38;5;28;01mdef\u001b[39;00m \u001b[38;5;21m__init__\u001b[39m(\u001b[38;5;28mself\u001b[39m, size_average\u001b[38;5;241m=\u001b[39m\u001b[38;5;28;01mNone\u001b[39;00m, reduce\u001b[38;5;241m=\u001b[39m\u001b[38;5;28;01mNone\u001b[39;00m, reduction: \u001b[38;5;28mstr\u001b[39m \u001b[38;5;241m=\u001b[39m \u001b[38;5;124m'\u001b[39m\u001b[38;5;124mmean\u001b[39m\u001b[38;5;124m'\u001b[39m) \u001b[38;5;241m-\u001b[39m\u001b[38;5;241m>\u001b[39m \u001b[38;5;28;01mNone\u001b[39;00m:\n\u001b[1;32m--> 532\u001b[0m     \u001b[38;5;28;43msuper\u001b[39;49m\u001b[43m(\u001b[49m\u001b[43m)\u001b[49m\u001b[38;5;241;43m.\u001b[39;49m\u001b[38;5;21;43m__init__\u001b[39;49m\u001b[43m(\u001b[49m\u001b[43msize_average\u001b[49m\u001b[43m,\u001b[49m\u001b[43m \u001b[49m\u001b[43mreduce\u001b[49m\u001b[43m,\u001b[49m\u001b[43m \u001b[49m\u001b[43mreduction\u001b[49m\u001b[43m)\u001b[49m\n",
      "File \u001b[1;32mc:\\Users\\bingy\\AppData\\Local\\Programs\\Python\\Python312\\Lib\\site-packages\\torch\\nn\\modules\\loss.py:23\u001b[0m, in \u001b[0;36m_Loss.__init__\u001b[1;34m(self, size_average, reduce, reduction)\u001b[0m\n\u001b[0;32m     21\u001b[0m \u001b[38;5;28msuper\u001b[39m()\u001b[38;5;241m.\u001b[39m\u001b[38;5;21m__init__\u001b[39m()\n\u001b[0;32m     22\u001b[0m \u001b[38;5;28;01mif\u001b[39;00m size_average \u001b[38;5;129;01mis\u001b[39;00m \u001b[38;5;129;01mnot\u001b[39;00m \u001b[38;5;28;01mNone\u001b[39;00m \u001b[38;5;129;01mor\u001b[39;00m reduce \u001b[38;5;129;01mis\u001b[39;00m \u001b[38;5;129;01mnot\u001b[39;00m \u001b[38;5;28;01mNone\u001b[39;00m:\n\u001b[1;32m---> 23\u001b[0m     \u001b[38;5;28mself\u001b[39m\u001b[38;5;241m.\u001b[39mreduction: \u001b[38;5;28mstr\u001b[39m \u001b[38;5;241m=\u001b[39m \u001b[43m_Reduction\u001b[49m\u001b[38;5;241;43m.\u001b[39;49m\u001b[43mlegacy_get_string\u001b[49m\u001b[43m(\u001b[49m\u001b[43msize_average\u001b[49m\u001b[43m,\u001b[49m\u001b[43m \u001b[49m\u001b[43mreduce\u001b[49m\u001b[43m)\u001b[49m\n\u001b[0;32m     24\u001b[0m \u001b[38;5;28;01melse\u001b[39;00m:\n\u001b[0;32m     25\u001b[0m     \u001b[38;5;28mself\u001b[39m\u001b[38;5;241m.\u001b[39mreduction \u001b[38;5;241m=\u001b[39m reduction\n",
      "File \u001b[1;32mc:\\Users\\bingy\\AppData\\Local\\Programs\\Python\\Python312\\Lib\\site-packages\\torch\\nn\\_reduction.py:35\u001b[0m, in \u001b[0;36mlegacy_get_string\u001b[1;34m(size_average, reduce, emit_warning)\u001b[0m\n\u001b[0;32m     32\u001b[0m \u001b[38;5;28;01mif\u001b[39;00m reduce \u001b[38;5;129;01mis\u001b[39;00m \u001b[38;5;28;01mNone\u001b[39;00m:\n\u001b[0;32m     33\u001b[0m     reduce \u001b[38;5;241m=\u001b[39m \u001b[38;5;28;01mTrue\u001b[39;00m\n\u001b[1;32m---> 35\u001b[0m \u001b[38;5;28;01mif\u001b[39;00m size_average \u001b[38;5;129;01mand\u001b[39;00m reduce:\n\u001b[0;32m     36\u001b[0m     ret \u001b[38;5;241m=\u001b[39m \u001b[38;5;124m'\u001b[39m\u001b[38;5;124mmean\u001b[39m\u001b[38;5;124m'\u001b[39m\n\u001b[0;32m     37\u001b[0m \u001b[38;5;28;01melif\u001b[39;00m reduce:\n",
      "\u001b[1;31mRuntimeError\u001b[0m: Boolean value of Tensor with more than one value is ambiguous"
     ]
    }
   ],
   "source": [
    "import torch \n",
    "x = torch.tensor([[1.0], [2.0], [3.0]])\n",
    "w = torch.tensor([[2]],dtype=torch.float32)\n",
    "x_test = x ** 2\n",
    "y = torch.nn.MSELoss(w @ x.reshape(1,-1), x_test)"
   ]
  },
  {
   "cell_type": "code",
   "execution_count": 20,
   "metadata": {},
   "outputs": [
    {
     "ename": "RuntimeError",
     "evalue": "you can only change requires_grad flags of leaf variables.",
     "output_type": "error",
     "traceback": [
      "\u001b[1;31m---------------------------------------------------------------------------\u001b[0m",
      "\u001b[1;31mRuntimeError\u001b[0m                              Traceback (most recent call last)",
      "Cell \u001b[1;32mIn[20], line 3\u001b[0m\n\u001b[0;32m      1\u001b[0m x1 \u001b[38;5;241m=\u001b[39m torch\u001b[38;5;241m.\u001b[39mtensor([[\u001b[38;5;241m1.0\u001b[39m], [\u001b[38;5;241m2.0\u001b[39m], [\u001b[38;5;241m3.0\u001b[39m]],requires_grad\u001b[38;5;241m=\u001b[39m\u001b[38;5;28;01mTrue\u001b[39;00m)\n\u001b[0;32m      2\u001b[0m x2 \u001b[38;5;241m=\u001b[39m x1 \u001b[38;5;241m*\u001b[39m\u001b[38;5;241m*\u001b[39m \u001b[38;5;241m2\u001b[39m\n\u001b[1;32m----> 3\u001b[0m \u001b[43mx2\u001b[49m\u001b[38;5;241;43m.\u001b[39;49m\u001b[43mrequires_grad\u001b[49m \u001b[38;5;241m=\u001b[39m \u001b[38;5;28;01mTrue\u001b[39;00m\n\u001b[0;32m      4\u001b[0m criterion \u001b[38;5;241m=\u001b[39m torch\u001b[38;5;241m.\u001b[39mnn\u001b[38;5;241m.\u001b[39mMSELoss()\n\u001b[0;32m      5\u001b[0m loss \u001b[38;5;241m=\u001b[39m criterion(x1, x2)\n",
      "\u001b[1;31mRuntimeError\u001b[0m: you can only change requires_grad flags of leaf variables."
     ]
    }
   ],
   "source": [
    "x1 = torch.tensor([[1.0], [2.0], [3.0]],requires_grad=True)\n",
    "x2 = x1 ** 2\n",
    "x2.requires_grad = True\n",
    "criterion = torch.nn.MSELoss()\n",
    "loss = criterion(x1, x2)\n",
    "loss.backward() "
   ]
  },
  {
   "cell_type": "code",
   "execution_count": 19,
   "metadata": {},
   "outputs": [
    {
     "data": {
      "text/plain": [
       "tensor([[ 0.],\n",
       "        [ 4.],\n",
       "        [20.]])"
      ]
     },
     "execution_count": 19,
     "metadata": {},
     "output_type": "execute_result"
    }
   ],
   "source": [
    "x1.grad"
   ]
  },
  {
   "cell_type": "code",
   "execution_count": 18,
   "metadata": {},
   "outputs": [
    {
     "name": "stderr",
     "output_type": "stream",
     "text": [
      "C:\\Users\\bingy\\AppData\\Local\\Temp\\ipykernel_3576\\1046228013.py:1: UserWarning: The .grad attribute of a Tensor that is not a leaf Tensor is being accessed. Its .grad attribute won't be populated during autograd.backward(). If you indeed want the .grad field to be populated for a non-leaf Tensor, use .retain_grad() on the non-leaf Tensor. If you access the non-leaf Tensor by mistake, make sure you access the leaf Tensor instead. See github.com/pytorch/pytorch/pull/30531 for more informations. (Triggered internally at aten\\src\\ATen/core/TensorBody.h:494.)\n",
      "  x2.grad\n"
     ]
    }
   ],
   "source": [
    "x2.grad\n"
   ]
  },
  {
   "cell_type": "code",
   "execution_count": 16,
   "metadata": {},
   "outputs": [
    {
     "name": "stdout",
     "output_type": "stream",
     "text": [
      "dataloader : 0, average time : 0.41875\n"
     ]
    },
    {
     "ename": "AttributeError",
     "evalue": "'Timer' object has no attribute 'Timer'",
     "output_type": "error",
     "traceback": [
      "\u001b[1;31m---------------------------------------------------------------------------\u001b[0m",
      "\u001b[1;31mAttributeError\u001b[0m                            Traceback (most recent call last)",
      "Cell \u001b[1;32mIn[16], line 22\u001b[0m\n\u001b[0;32m     20\u001b[0m perm \u001b[38;5;241m=\u001b[39m torch\u001b[38;5;241m.\u001b[39mrandperm(x\u001b[38;5;241m.\u001b[39msize(\u001b[38;5;241m0\u001b[39m))\n\u001b[0;32m     21\u001b[0m \u001b[38;5;28;01mfor\u001b[39;00m dataloader \u001b[38;5;129;01min\u001b[39;00m [\u001b[38;5;241m0\u001b[39m,\u001b[38;5;241m1\u001b[39m,\u001b[38;5;241m2\u001b[39m]:\n\u001b[1;32m---> 22\u001b[0m     timer \u001b[38;5;241m=\u001b[39m \u001b[43mtimer\u001b[49m\u001b[38;5;241;43m.\u001b[39;49m\u001b[43mTimer\u001b[49m()\n\u001b[0;32m     23\u001b[0m     \u001b[38;5;28;01mfor\u001b[39;00m i \u001b[38;5;129;01min\u001b[39;00m \u001b[38;5;28mrange\u001b[39m(\u001b[38;5;241m5\u001b[39m):\n\u001b[0;32m     24\u001b[0m         timer\u001b[38;5;241m.\u001b[39mstart()\n",
      "\u001b[1;31mAttributeError\u001b[0m: 'Timer' object has no attribute 'Timer'"
     ]
    }
   ],
   "source": [
    "import torch\n",
    "import time\n",
    "import utils.timer as timer\n",
    "class generator:\n",
    "    def __init__(self,max_iter=50):\n",
    "        self.counter = 0\n",
    "        self.max_iter = max_iter\n",
    "    def __iter__(self):\n",
    "        return self\n",
    "    def __next__(self):\n",
    "        if self.counter < self.max_iter:\n",
    "            self.counter += 1\n",
    "            return torch.randn(1, 54)\n",
    "        else:\n",
    "            raise StopIteration\n",
    "\n",
    "# Example usage\n",
    "generator = generator(580000)\n",
    "x = torch.randn(580000, 54)\n",
    "perm = torch.randperm(x.size(0))\n",
    "for dataloader in [0,1,2]:\n",
    "    timer = timer.Timer()\n",
    "    for i in range(5):\n",
    "        timer.start()\n",
    "        if dataloader == 0:\n",
    "            batch = [x for x in generator]\n",
    "        elif dataloader == 1:\n",
    "            batch = x\n",
    "        elif dataloader == 2:\n",
    "            batch = [x[perm[i]] for i in range(580000)]\n",
    "        timer.end()\n",
    "    print(f'dataloader : {dataloader}, average time : {timer.get_average_time()}')\n"
   ]
  },
  {
   "cell_type": "code",
   "execution_count": null,
   "metadata": {},
   "outputs": [],
   "source": [
    "\n",
    "\n",
    "# Concatenate the tensors\n",
    "concatenated_tensor = torch.cat(tensors)\n",
    "\n",
    "# Print the concatenated tensor\n",
    "print(concatenated_tensor)\n",
    "\n",
    "# Print the time cost\n",
    "time_cost = end_time - start_time\n",
    "print(f\"Time cost: {time_cost} seconds\")"
   ]
  },
  {
   "cell_type": "code",
   "execution_count": 17,
   "metadata": {},
   "outputs": [],
   "source": [
    "import torch"
   ]
  },
  {
   "cell_type": "code",
   "execution_count": 50,
   "metadata": {},
   "outputs": [
    {
     "name": "stdout",
     "output_type": "stream",
     "text": [
      "requires_grad:  [True, True, False]\n",
      "grad_fn:  [None, None, None]\n",
      "grad:  [tensor([[1.]]), None, None]\n"
     ]
    }
   ],
   "source": [
    "import torch \n",
    "\n",
    "x = torch.tensor([[1.0], [2.0], [3.0]])\n",
    "x2 = x ** 2\n",
    "x3 = torch.sigmoid(x2.T@x2)\n",
    "\n",
    "x3.requires_grad = True\n",
    "x2.requires_grad = True\n",
    "x3.backward()\n",
    "showstatus(x3,x2,x)\n"
   ]
  },
  {
   "cell_type": "code",
   "execution_count": 65,
   "metadata": {},
   "outputs": [
    {
     "name": "stdout",
     "output_type": "stream",
     "text": [
      "x: tensor(250., grad_fn=<MulBackward0>)\n",
      "requires_grad:  [True, True, True, True]\n",
      "grad_fn:  [None, None, <PowBackward0 object at 0x000001DE09A35E10>, <MulBackward0 object at 0x000001DE09A88C70>]\n",
      "grad:  [None, None, None, None]\n",
      "requires_grad:  [True, True, True, True]\n",
      "grad_fn:  [None, None, <PowBackward0 object at 0x000001DE09A88C70>, <MulBackward0 object at 0x000001DE164967A0>]\n",
      "grad:  [tensor(150.), tensor(125.), None, None]\n"
     ]
    },
    {
     "name": "stderr",
     "output_type": "stream",
     "text": [
      "C:\\Users\\bingy\\AppData\\Local\\Temp\\ipykernel_34884\\2691056994.py:19: UserWarning: The .grad attribute of a Tensor that is not a leaf Tensor is being accessed. Its .grad attribute won't be populated during autograd.backward(). If you indeed want the .grad field to be populated for a non-leaf Tensor, use .retain_grad() on the non-leaf Tensor. If you access the non-leaf Tensor by mistake, make sure you access the leaf Tensor instead. See github.com/pytorch/pytorch/pull/30531 for more informations. (Triggered internally at aten\\src\\ATen/core/TensorBody.h:494.)\n",
      "  print(f'grad: ',[arg.grad for arg in args])\n"
     ]
    }
   ],
   "source": [
    "# import necessary libraries \n",
    "import torch \n",
    "\n",
    "# define a tensor \n",
    "A = torch.tensor(5., requires_grad=True)\n",
    "w = torch.tensor(2., requires_grad=True)\n",
    "y = A**3\n",
    "x = w * y\n",
    "print(\"x:\", x) \n",
    "\n",
    "# print the gradient using .grad \n",
    "showstatus(A,w,y,x)\n",
    "x.backward()\n",
    "showstatus(A,w,y,x)"
   ]
  },
  {
   "cell_type": "code",
   "execution_count": 66,
   "metadata": {},
   "outputs": [
    {
     "name": "stdout",
     "output_type": "stream",
     "text": [
      "Tensor-A: tensor(2., requires_grad=True)\n",
      "Tensor-B: tensor(5.)\n",
      "x: tensor(10., grad_fn=<MulBackward0>)\n",
      "A.grad: tensor(5.)\n",
      "B.grad: None\n"
     ]
    }
   ],
   "source": [
    "# import necessary libraries \n",
    "import torch \n",
    "\n",
    "# define two tensors \n",
    "A = torch.tensor(2., requires_grad=True) \n",
    "print(\"Tensor-A:\", A) \n",
    "B = torch.tensor(5., requires_grad=False) \n",
    "print(\"Tensor-B:\", B) \n",
    "\n",
    "# define a function using above defined \n",
    "# tensors \n",
    "x = A*B \n",
    "print(\"x:\", x) \n",
    "\n",
    "# call the backward method \n",
    "x.backward() \n",
    "\n",
    "# print the gradients using .grad \n",
    "print(\"A.grad:\", A.grad) \n",
    "print(\"B.grad:\", B.grad) \n"
   ]
  },
  {
   "cell_type": "code",
   "execution_count": null,
   "metadata": {},
   "outputs": [],
   "source": []
  }
 ],
 "metadata": {
  "kernelspec": {
   "display_name": "Python 3",
   "language": "python",
   "name": "python3"
  },
  "language_info": {
   "codemirror_mode": {
    "name": "ipython",
    "version": 3
   },
   "file_extension": ".py",
   "mimetype": "text/x-python",
   "name": "python",
   "nbconvert_exporter": "python",
   "pygments_lexer": "ipython3",
   "version": "3.12.0"
  }
 },
 "nbformat": 4,
 "nbformat_minor": 2
}
