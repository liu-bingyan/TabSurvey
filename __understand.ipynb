{
 "cells": [
  {
   "cell_type": "code",
   "execution_count": 26,
   "metadata": {},
   "outputs": [
    {
     "name": "stdout",
     "output_type": "stream",
     "text": [
      "Epoch [10/400], Loss: 6.4379\n",
      "Epoch [20/400], Loss: 4.2686\n",
      "Epoch [30/400], Loss: 2.8303\n",
      "Epoch [40/400], Loss: 1.8766\n",
      "Epoch [50/400], Loss: 1.2443\n",
      "Epoch [60/400], Loss: 0.8250\n",
      "Epoch [70/400], Loss: 0.5470\n",
      "Epoch [80/400], Loss: 0.3627\n",
      "Epoch [90/400], Loss: 0.2405\n",
      "Epoch [100/400], Loss: 0.1595\n",
      "Epoch [110/400], Loss: 0.1057\n",
      "Epoch [120/400], Loss: 0.0701\n",
      "Epoch [130/400], Loss: 0.0465\n",
      "Epoch [140/400], Loss: 0.0308\n",
      "Epoch [150/400], Loss: 0.0204\n",
      "Epoch [160/400], Loss: 0.0136\n",
      "Epoch [170/400], Loss: 0.0090\n",
      "Epoch [180/400], Loss: 0.0060\n",
      "Epoch [190/400], Loss: 0.0040\n",
      "Epoch [200/400], Loss: 0.0026\n",
      "Epoch [210/400], Loss: 0.0017\n",
      "Epoch [220/400], Loss: 0.0012\n",
      "Epoch [230/400], Loss: 0.0008\n",
      "Epoch [240/400], Loss: 0.0005\n",
      "Epoch [250/400], Loss: 0.0003\n",
      "Epoch [260/400], Loss: 0.0002\n",
      "Epoch [270/400], Loss: 0.0001\n",
      "Epoch [280/400], Loss: 0.0001\n",
      "Epoch [290/400], Loss: 0.0001\n",
      "Epoch [300/400], Loss: 0.0000\n",
      "Epoch [310/400], Loss: 0.0000\n",
      "Epoch [320/400], Loss: 0.0000\n",
      "Epoch [330/400], Loss: 0.0000\n",
      "Epoch [340/400], Loss: 0.0000\n",
      "Epoch [350/400], Loss: 0.0000\n",
      "Epoch [360/400], Loss: 0.0000\n",
      "Epoch [370/400], Loss: 0.0000\n",
      "Epoch [380/400], Loss: 0.0000\n",
      "Epoch [390/400], Loss: 0.0000\n",
      "Epoch [400/400], Loss: 0.0000\n",
      "Predictions: [[2.9988563]\n",
      " [4.9982004]\n",
      " [6.9975443]]\n",
      "model.linear.weight: Parameter containing:\n",
      "tensor([[1.9993]], requires_grad=True)\n",
      "model.linear.bias: Parameter containing:\n",
      "tensor([0.9995], requires_grad=True)\n"
     ]
    }
   ],
   "source": [
    "import torch\n",
    "import torch.nn as nn\n",
    "import torch.optim as optim\n",
    "\n",
    "# Define the linear neural network model\n",
    "class LinearModel(nn.Module):\n",
    "    def __init__(self, input_size, output_size):\n",
    "        super(LinearModel, self).__init__()\n",
    "        self.linear = nn.Linear(input_size, output_size,bias=True)\n",
    "    \n",
    "    def forward(self, x):\n",
    "        return self.linear(x)\n",
    "\n",
    "# Create the linear data\n",
    "x_train = torch.randn(10000, 1)\n",
    "w = torch.tensor([[2]],dtype=torch.float32)\n",
    "b = torch.tensor([1])  \n",
    "\n",
    "y_train = x_train @ w + b\n",
    "\n",
    "# Define the model and loss function\n",
    "model = LinearModel(1, 1)\n",
    "criterion = nn.MSELoss()\n",
    "optimizer = optim.SGD(model.parameters(), lr=0.01)\n",
    "\n",
    "# Train the model\n",
    "num_epochs = 400\n",
    "for epoch in range(num_epochs):\n",
    "    # Forward pass\n",
    "    outputs = model(x_train)\n",
    "    loss = criterion(outputs, y_train)\n",
    "    \n",
    "    # Backward and optimize\n",
    "    optimizer.zero_grad()\n",
    "    loss.backward()\n",
    "    optimizer.step()\n",
    "\n",
    "    # Print the loss every 10 epochs\n",
    "    if (epoch+1) % 10 == 0:\n",
    "        print(f'Epoch [{epoch+1}/{num_epochs}], Loss: {loss.item():.4f}')\n",
    "\n",
    "# Test the trained model\n",
    "x_test = torch.tensor([[1.0], [2.0], [3.0]])\n",
    "y_test = model(x_test)\n",
    "print(f'Predictions: {y_test.detach().numpy()}')\n",
    "print(f'model.linear.weight: {model.linear.weight}')\n",
    "print(f'model.linear.bias: {model.linear.bias}')\n"
   ]
  },
  {
   "cell_type": "code",
   "execution_count": 9,
   "metadata": {},
   "outputs": [
    {
     "ename": "AttributeError",
     "evalue": "attribute 'grad_fn' of 'torch._C.TensorBase' objects is not writable",
     "output_type": "error",
     "traceback": [
      "\u001b[1;31m---------------------------------------------------------------------------\u001b[0m",
      "\u001b[1;31mAttributeError\u001b[0m                            Traceback (most recent call last)",
      "Cell \u001b[1;32mIn[9], line 1\u001b[0m\n\u001b[1;32m----> 1\u001b[0m \u001b[43mloss\u001b[49m\u001b[38;5;241;43m.\u001b[39;49m\u001b[43mgrad_fn\u001b[49m \u001b[38;5;241m=\u001b[39m \u001b[38;5;28;01mNone\u001b[39;00m\n\u001b[0;32m      2\u001b[0m loss\u001b[38;5;241m.\u001b[39mbackward()\n",
      "\u001b[1;31mAttributeError\u001b[0m: attribute 'grad_fn' of 'torch._C.TensorBase' objects is not writable"
     ]
    }
   ],
   "source": []
  },
  {
   "cell_type": "code",
   "execution_count": null,
   "metadata": {},
   "outputs": [],
   "source": []
  }
 ],
 "metadata": {
  "kernelspec": {
   "display_name": "Python 3",
   "language": "python",
   "name": "python3"
  },
  "language_info": {
   "codemirror_mode": {
    "name": "ipython",
    "version": 3
   },
   "file_extension": ".py",
   "mimetype": "text/x-python",
   "name": "python",
   "nbconvert_exporter": "python",
   "pygments_lexer": "ipython3",
   "version": "3.12.0"
  }
 },
 "nbformat": 4,
 "nbformat_minor": 2
}
