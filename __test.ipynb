{
 "cells": [
  {
   "cell_type": "code",
   "execution_count": 6,
   "metadata": {},
   "outputs": [],
   "source": [
    "from sklearn import datasets\n",
    "import sklearn\n",
    "import pandas as pd"
   ]
  },
  {
   "cell_type": "code",
   "execution_count": 8,
   "metadata": {},
   "outputs": [],
   "source": [
    "X,y = sklearn.datasets.fetch_covtype(return_X_y=True)"
   ]
  },
  {
   "cell_type": "code",
   "execution_count": 11,
   "metadata": {},
   "outputs": [
    {
     "name": "stdout",
     "output_type": "stream",
     "text": [
      "[[0.         0.98348832 0.01651166]\n",
      " [1.         0.75248456 0.24751541]\n",
      " [1.         0.41779459 0.58220541]\n",
      " ...\n",
      " [0.         0.6343646  0.36563542]\n",
      " [0.         0.81086361 0.1891364 ]\n",
      " [0.         0.6785121  0.32148793]]\n",
      "     0         1         2\n",
      "0  0.0  0.983488  0.016512\n",
      "1  1.0  0.752485  0.247515\n",
      "2  1.0  0.417795  0.582205\n",
      "3  1.0  0.449932  0.550068\n",
      "4  0.0  0.971243  0.028757\n"
     ]
    }
   ],
   "source": [
    "import numpy as np\n",
    "file_path = 'output/MLP/Adult/predictions/p_1.npy'\n",
    "content = np.load(file_path)\n",
    "print(content)\n",
    "pc = pd.DataFrame(content)\n",
    "print(pc.head())"
   ]
  },
  {
   "cell_type": "code",
   "execution_count": 12,
   "metadata": {},
   "outputs": [
    {
     "ename": "ModuleNotFoundError",
     "evalue": "No module named 'torch'",
     "output_type": "error",
     "traceback": [
      "\u001b[1;31m---------------------------------------------------------------------------\u001b[0m",
      "\u001b[1;31mModuleNotFoundError\u001b[0m                       Traceback (most recent call last)",
      "Cell \u001b[1;32mIn[12], line 1\u001b[0m\n\u001b[1;32m----> 1\u001b[0m \u001b[38;5;28;01mimport\u001b[39;00m \u001b[38;5;21;01mtorch\u001b[39;00m \n\u001b[0;32m      2\u001b[0m help(torch\u001b[38;5;241m.\u001b[39msoftmax)\n",
      "\u001b[1;31mModuleNotFoundError\u001b[0m: No module named 'torch'"
     ]
    }
   ],
   "source": [
    " "
   ]
  },
  {
   "cell_type": "code",
   "execution_count": null,
   "metadata": {},
   "outputs": [],
   "source": []
  }
 ],
 "metadata": {
  "kernelspec": {
   "display_name": "base",
   "language": "python",
   "name": "python3"
  },
  "language_info": {
   "codemirror_mode": {
    "name": "ipython",
    "version": 3
   },
   "file_extension": ".py",
   "mimetype": "text/x-python",
   "name": "python",
   "nbconvert_exporter": "python",
   "pygments_lexer": "ipython3",
   "version": "3.11.5"
  }
 },
 "nbformat": 4,
 "nbformat_minor": 2
}
