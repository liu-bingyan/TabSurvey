{
 "cells": [
  {
   "cell_type": "code",
   "execution_count": null,
   "metadata": {},
   "outputs": [],
   "source": [
    "import torch\n",
    "import torch.nn as nn\n",
    "import torch.optim as optim\n",
    "from utils import timer\n",
    "\n",
    "\n",
    "# Define the neural network class\n",
    "class FuckMLP(nn.Module):\n",
    "\n",
    "    def __init__(self, n_layers, input_dim, hidden_dim, output_dim, task):\n",
    "        super().__init__()\n",
    "\n",
    "        self.task = task\n",
    "\n",
    "        self.layers = nn.ModuleList()\n",
    "\n",
    "        # Input Layer (= first hidden layer)\n",
    "        self.input_layer = nn.Linear(input_dim, hidden_dim)\n",
    "\n",
    "        # Hidden Layers (number specified by n_layers)\n",
    "        self.layers.extend([nn.Linear(hidden_dim, hidden_dim) for _ in range(n_layers - 1)])\n",
    "\n",
    "        # Output Layer\n",
    "        self.output_layer = nn.Linear(hidden_dim, output_dim)\n",
    "\n",
    "    def forward(self, x):\n",
    "        x = torch.relu(self.input_layer(x))\n",
    "\n",
    "        # Use ReLU as activation for all hidden layers\n",
    "        for layer in self.layers:\n",
    "            x = torch.relu(layer(x))\n",
    "\n",
    "        # No activation function on the output\n",
    "        x = self.output_layer(x)\n",
    "\n",
    "        if self.task == \"classification\":\n",
    "            x = torch.softmax(x, dim=1)\n",
    "\n",
    "        return x"
   ]
  },
  {
   "cell_type": "code",
   "execution_count": null,
   "metadata": {},
   "outputs": [],
   "source": [
    "nepochs = 1000\n",
    "nrows = 100000\n",
    "in_features = 100\n",
    "out_features = 1\n",
    "print(f\"nepochs: {nepochs}, nrows: {nrows}, in_features: {in_features}, out_features: {out_features}\")\n",
    "\n",
    "# Create an instance of the neural network\n",
    "net = FuckMLP(n_layers=3, input_dim=in_features, hidden_dim=68, output_dim=out_features,task='classification')\n",
    "train_timer = timer.Timer()\n"
   ]
  },
  {
   "cell_type": "code",
   "execution_count": null,
   "metadata": {},
   "outputs": [],
   "source": [
    "\n",
    "\n",
    "# Define your training data and labels\n",
    "data = torch.randn(nrows, in_features,dtype=torch.float32)\n",
    "labels = torch.argmax(data, dim=1)\n",
    "print(data.shape)\n",
    "print(labels.shape)\n",
    "\n",
    "# Use GPU for training if available\n",
    "device = torch.device(\"cuda\" if torch.cuda.is_available() else \"cpu\")\n",
    "net.to(device)\n",
    "data = data.to(device)\n",
    "labels = labels.to(device)\n",
    "print(device)\n",
    "\n",
    "\n",
    "# Define the loss function and optimizer\n",
    "criterion = nn.CrossEntropyLoss()\n",
    "optimizer = optim.Adam(net.parameters(), lr=0.01)\n",
    "\n",
    "# Train the neural network\n",
    "train_timer.start()\n",
    "for epoch in range(nepochs):\n",
    "    \n",
    "    optimizer.zero_grad()\n",
    "    outputs = net(data)\n",
    "    loss = criterion(outputs, labels)\n",
    "    loss.backward()\n",
    "    optimizer.step()\n",
    "\n",
    "    if (epoch + 1) % 50 == 0:\n",
    "        print(f\"Epoch {epoch+1}/{nepochs}, Loss: {loss.item()}\")\n",
    "\n",
    "train_timer.end()\n",
    "print(f'total time spent : {train_timer.get_average_time()}')\n",
    "print(\"Finished Training\")\n"
   ]
  },
  {
   "cell_type": "code",
   "execution_count": 11,
   "metadata": {},
   "outputs": [
    {
     "name": "stdout",
     "output_type": "stream",
     "text": [
      "[[0.         0.98348832 0.01651166]\n",
      " [1.         0.75248456 0.24751541]\n",
      " [1.         0.41779459 0.58220541]\n",
      " ...\n",
      " [0.         0.6343646  0.36563542]\n",
      " [0.         0.81086361 0.1891364 ]\n",
      " [0.         0.6785121  0.32148793]]\n",
      "     0         1         2\n",
      "0  0.0  0.983488  0.016512\n",
      "1  1.0  0.752485  0.247515\n",
      "2  1.0  0.417795  0.582205\n",
      "3  1.0  0.449932  0.550068\n",
      "4  0.0  0.971243  0.028757\n"
     ]
    }
   ],
   "source": [
    "import numpy as np\n",
    "file_path = 'output/MLP/Adult/predictions/p_1.npy'\n",
    "content = np.load(file_path)\n",
    "print(content)\n",
    "pc = pd.DataFrame(content)\n",
    "print(pc.head())"
   ]
  },
  {
   "cell_type": "code",
   "execution_count": 12,
   "metadata": {},
   "outputs": [
    {
     "ename": "ModuleNotFoundError",
     "evalue": "No module named 'torch'",
     "output_type": "error",
     "traceback": [
      "\u001b[1;31m---------------------------------------------------------------------------\u001b[0m",
      "\u001b[1;31mModuleNotFoundError\u001b[0m                       Traceback (most recent call last)",
      "Cell \u001b[1;32mIn[12], line 1\u001b[0m\n\u001b[1;32m----> 1\u001b[0m \u001b[38;5;28;01mimport\u001b[39;00m \u001b[38;5;21;01mtorch\u001b[39;00m \n\u001b[0;32m      2\u001b[0m help(torch\u001b[38;5;241m.\u001b[39msoftmax)\n",
      "\u001b[1;31mModuleNotFoundError\u001b[0m: No module named 'torch'"
     ]
    }
   ],
   "source": [
    " "
   ]
  },
  {
   "cell_type": "code",
   "execution_count": null,
   "metadata": {},
   "outputs": [],
   "source": []
  }
 ],
 "metadata": {
  "kernelspec": {
   "display_name": "base",
   "language": "python",
   "name": "python3"
  },
  "language_info": {
   "codemirror_mode": {
    "name": "ipython",
    "version": 3
   },
   "file_extension": ".py",
   "mimetype": "text/x-python",
   "name": "python",
   "nbconvert_exporter": "python",
   "pygments_lexer": "ipython3",
   "version": "3.11.5"
  }
 },
 "nbformat": 4,
 "nbformat_minor": 2
}
